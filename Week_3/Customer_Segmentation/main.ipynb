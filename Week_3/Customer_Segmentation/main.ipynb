{
 "cells": [
  {
   "cell_type": "markdown",
   "metadata": {},
   "source": [
    "# Customer Segmentation Using Clustering Algorithms"
   ]
  },
  {
   "cell_type": "markdown",
   "metadata": {},
   "source": [
    "`Author:` [Prashant Sharma](https://github.com/Prashantpq)\\\n",
    "`Date:` 11.December.2024\\\n",
    "`Dataset:` [Credit Card Customer Segmentation](https://zenodo.org/records/4322342#.Y8OsBdJBwUE)"
   ]
  },
  {
   "cell_type": "markdown",
   "metadata": {},
   "source": [
    "### About Dataset (Meta data)\n",
    "#### Context\n",
    "This dataset contains a wealth of customer information collected from within a consumer credit card portfolio, with the aim of helping analysts predict customer attrition. It includes comprehensive demographic details such as age, gender, marital status and income category, as well as insight into each customer’s relationship with the credit card provider such as the card type, number of months on book and inactive periods. Additionally it holds key data about customers’ spending behavior drawing closer to their churn decision such as total revolving balance, credit limit, average open to buy rate and analyzable metrics like total amount of change from quarter 4 to quarter 1, average utilization ratio and Naive Bayes classifier attrition flag (Card category is combined with contacts count in 12months period alongside dependent count plus education level & months inactive). Faced with this set of useful predicted data points across multiple variables capture up-to-date information that can determine long term account stability or an impending departure therefore offering us an equipped understanding when seeking to manage a portfolio or serve individual customers.\n",
    "\n",
    "### Content\n",
    "#### Column Descriptions:\n",
    "* `CLIENTNUM:` Unique identifier for each customer. (Integer).\n",
    "* `Attrition_Flag:` Flag indicating whether or not the customer has churned out. (Boolean).\n",
    "* `Customer_Age:` Age of customer. (Integer).\n",
    "* `Gender:` The text or lyrics that song contain.\n",
    "* `Dependent_count:` Number of dependents that customer has. (Integer)\n",
    "* `Education_Level:` Education level of customer. (String)\n",
    "* `Marital_Status:` Marital status of customer. (String)\n",
    "* `Income_Category:` Income category of customer. (String)\n",
    "* `Card_Category:` Type of card held by customer. (String)\n",
    "* `Months_on_book:` How long customer has been on the books. (Integer)\n",
    "* `Total_Relationship_Count:` Total number of relationships customer has with the credit card provider. (Integer)\n",
    "* `Months_Inactive_12_mon:` Number of months customer has been inactive in the last twelve months. (Integer)\n",
    "* `Contacts_Count_12_mon:` Number of contacts customer has had in the last twelve months. (Integer)\n",
    "* `Credit_Limit:` Credit limit of customer. (Integer)\n",
    "* `Total_Revolving_Bal:` Total revolving balance of customer. (Integer)\n",
    "* `Avg_Open_To_Buy:` Average open to buy ratio of customer. (Integer)\n",
    "* `Total_Amt_Chng_Q4_Q1:` Total amount changed from quarter 4 to quarter 1. (Integer)\n",
    "* `Total_Trans_Amt:` Total transaction amount. (Integer)\n",
    "* `Total_Trans_Ct:` Total transaction count. (Integer)\n",
    "* `Total_Ct_Chng_Q4_Q1:` Total count changed from quarter 4 to quarter 1. (Integer)\n",
    "* `Avg_Utilization_Ratio:` Average utilization ratio of customer. (Integer)\n",
    "* `Naive_Bayes_Classifier_Attrition_Flag_Card_Category_Contacts_Count_12_mon_Dependent_count_Education_Level_Months_Inactive_12_mon_1:` Naive Bayes classifier for predicting whether or not someone will churn based on characteristics such \n"
   ]
  },
  {
   "cell_type": "markdown",
   "metadata": {},
   "source": [
    "# `Import Libraries`"
   ]
  },
  {
   "cell_type": "markdown",
   "metadata": {},
   "source": []
  }
 ],
 "metadata": {
  "language_info": {
   "name": "python"
  }
 },
 "nbformat": 4,
 "nbformat_minor": 2
}
