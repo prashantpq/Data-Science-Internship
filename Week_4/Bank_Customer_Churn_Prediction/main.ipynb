{
 "cells": [
  {
   "cell_type": "markdown",
   "metadata": {},
   "source": [
    "# Bank Customer Churn Prediction"
   ]
  },
  {
   "cell_type": "markdown",
   "metadata": {},
   "source": [
    "`Author:` [Prashant Sharma](https://github.com/Prashantpq)\\\n",
    "`Date:` 20.December.2024\\\n",
    "`Dataset:` [Bank Customer Churn Prediction](https://www.kaggle.com/datasets/shubhammeshram579/bank-customer-churn-prediction)"
   ]
  },
  {
   "cell_type": "markdown",
   "metadata": {},
   "source": [
    "### About Dataset (Meta data)\n",
    "#### Context\n",
    "The bank customer churn dataset is a commonly used dataset for predicting customer churn in the banking industry. It contains information on bank customers who either left the bank or continue to be a customer.\n",
    "\n",
    "### Content\n",
    "#### Column Descriptions:\n",
    "* `Customer ID:` A unique identifier for each customer.\n",
    "* `Surname:` The customer's surname or last name.\n",
    "* `Credit Score:` A numerical value representing the customer's credit score.\n",
    "* `Geography:` The country where the customer resides (France, Spain or Germany).\n",
    "* `Gender:` The customer's gender (Male or Female).\n",
    "* `Age:`  The customer's age.\n",
    "* `Tenure:` The number of years the customer has been with the bank.\n",
    "* `Balance:` The customer's account balance.\n",
    "* `NumOfProducts:` The number of bank products the customer uses (e.g., savings account, credit card).\n",
    "* `MonthsHasCrCard:` Whether the customer has a credit card (1 = yes, 0 = no).\n",
    "* `IsActiveMember:` Whether the customer is an active member (1 = yes, 0 = no).\n",
    "* `EstimatedSalary:`  The estimated salary of the customer.\n",
    "* `Exited:` Whether the customer has churned (1 = yes, 0 = no)."
   ]
  },
  {
   "cell_type": "markdown",
   "metadata": {},
   "source": [
    "# `Import Libraries`"
   ]
  },
  {
   "cell_type": "markdown",
   "metadata": {},
   "source": []
  }
 ],
 "metadata": {
  "language_info": {
   "name": "python"
  }
 },
 "nbformat": 4,
 "nbformat_minor": 2
}
